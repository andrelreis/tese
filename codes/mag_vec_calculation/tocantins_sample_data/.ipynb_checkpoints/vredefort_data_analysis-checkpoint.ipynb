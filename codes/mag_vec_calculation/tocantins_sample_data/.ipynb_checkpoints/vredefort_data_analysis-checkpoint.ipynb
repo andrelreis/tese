{
 "cells": [
  {
   "cell_type": "markdown",
   "metadata": {},
   "source": [
    "# Inversion for simulated rock sample"
   ]
  },
  {
   "cell_type": "markdown",
   "metadata": {},
   "source": [
    "#### Import libraries"
   ]
  },
  {
   "cell_type": "code",
   "execution_count": null,
   "metadata": {},
   "outputs": [],
   "source": [
    "%matplotlib inline\n",
    "from IPython.display import Markdown as md\n",
    "from IPython.display import display as dp\n",
    "import string as st\n",
    "import sys\n",
    "import numpy as np\n",
    "import matplotlib.pyplot as plt\n",
    "import cPickle as pickle\n",
    "import datetime\n",
    "\n",
    "from mpl_toolkits.axes_grid1.inset_locator import inset_axes\n",
    "from fatiando.utils import ang2vec, vec2ang\n",
    "from fatiando.mesher import Sphere, Prism, PolygonalPrism, PrismMesh\n",
    "from fatiando.gravmag import sphere, prism, polyprism\n",
    "from fatiando.gridder import regular"
   ]
  },
  {
   "cell_type": "code",
   "execution_count": null,
   "metadata": {},
   "outputs": [],
   "source": [
    "notebook_name = 'rock_sample_analysis.ipynb'"
   ]
  },
  {
   "cell_type": "markdown",
   "metadata": {},
   "source": [
    "#### Plot style"
   ]
  },
  {
   "cell_type": "code",
   "execution_count": null,
   "metadata": {},
   "outputs": [],
   "source": [
    "plt.style.use('ggplot')"
   ]
  },
  {
   "cell_type": "markdown",
   "metadata": {},
   "source": [
    "#### Importing auxiliary functions"
   ]
  },
  {
   "cell_type": "code",
   "execution_count": null,
   "metadata": {},
   "outputs": [],
   "source": [
    "dir_modules = '../../'\n",
    "sys.path.append(dir_modules)"
   ]
  },
  {
   "cell_type": "code",
   "execution_count": null,
   "metadata": {},
   "outputs": [],
   "source": [
    "import my_package as fc"
   ]
  },
  {
   "cell_type": "markdown",
   "metadata": {},
   "source": [
    "## Loading data "
   ]
  },
  {
   "cell_type": "code",
   "execution_count": null,
   "metadata": {},
   "outputs": [],
   "source": [
    "with open('data/data_set.pickle') as f:\n",
    "        data = pickle.load(f)"
   ]
  },
  {
   "cell_type": "markdown",
   "metadata": {},
   "source": [
    "## Loading Regular grid"
   ]
  },
  {
   "cell_type": "code",
   "execution_count": null,
   "metadata": {},
   "outputs": [],
   "source": [
    "with open('data/regular_grid.pickle') as f:\n",
    "        grid = pickle.load(f)"
   ]
  },
  {
   "cell_type": "markdown",
   "metadata": {},
   "source": [
    "## Loading results for inversion"
   ]
  },
  {
   "cell_type": "code",
   "execution_count": null,
   "metadata": {},
   "outputs": [],
   "source": [
    "with open('data/inversion.pickle') as f:\n",
    "        inversion = pickle.load(f)"
   ]
  },
  {
   "cell_type": "markdown",
   "metadata": {},
   "source": [
    "#### List of saved files"
   ]
  },
  {
   "cell_type": "code",
   "execution_count": null,
   "metadata": {},
   "outputs": [],
   "source": [
    "saved_files = []"
   ]
  },
  {
   "cell_type": "markdown",
   "metadata": {},
   "source": [
    "### Parameters of acquisition"
   ]
  },
  {
   "cell_type": "code",
   "execution_count": null,
   "metadata": {},
   "outputs": [],
   "source": [
    "xp,yp,zp = grid['x'],grid['y'],grid['z']"
   ]
  },
  {
   "cell_type": "code",
   "execution_count": null,
   "metadata": {},
   "outputs": [],
   "source": [
    "Nx,Ny = grid['Nx'],grid['Ny']"
   ]
  },
  {
   "cell_type": "markdown",
   "metadata": {},
   "source": [
    "### Inversion results"
   ]
  },
  {
   "cell_type": "code",
   "execution_count": null,
   "metadata": {},
   "outputs": [],
   "source": [
    "mu = inversion['mu'] \n",
    "par = inversion['parameter'] \n",
    "p_norm = inversion['p_norm'] \n",
    "r_norm = inversion['r_norm'] \n",
    "zc = inversion['zc'] \n",
    "inc = inversion['inc_l'] \n",
    "dec = inversion['dec_l'] "
   ]
  },
  {
   "cell_type": "markdown",
   "metadata": {},
   "source": [
    "### Equivalent sources coordinates"
   ]
  },
  {
   "cell_type": "code",
   "execution_count": null,
   "metadata": {},
   "outputs": [],
   "source": [
    "xs,ys,zs = regular(grid['area'],grid['shape'],zc)"
   ]
  },
  {
   "cell_type": "markdown",
   "metadata": {},
   "source": [
    "### The true data"
   ]
  },
  {
   "cell_type": "code",
   "execution_count": null,
   "metadata": {},
   "outputs": [],
   "source": [
    "Bz_true = data['bz_true']\n",
    "Bx_true = data['bx_true']\n",
    "By_true = data['by_true']\n",
    "Ba_true = data['B_true']"
   ]
  },
  {
   "cell_type": "markdown",
   "metadata": {},
   "source": [
    "### Calculating predicted data"
   ]
  },
  {
   "cell_type": "code",
   "execution_count": null,
   "metadata": {},
   "outputs": [],
   "source": [
    "p = par[3]"
   ]
  },
  {
   "cell_type": "code",
   "execution_count": null,
   "metadata": {},
   "outputs": [],
   "source": [
    "bz = fc.bz_layer(xp,yp,zp,xs,ys,zs,p,inc,dec)\n",
    "bx = fc.bx_layer(xp,yp,zp,xs,ys,zs,p,inc,dec)\n",
    "by = fc.by_layer(xp,yp,zp,xs,ys,zs,p,inc,dec) "
   ]
  },
  {
   "cell_type": "code",
   "execution_count": null,
   "metadata": {},
   "outputs": [],
   "source": [
    "b_tot = np.sqrt(bx*bx + by*by + bz*bz)"
   ]
  },
  {
   "cell_type": "markdown",
   "metadata": {},
   "source": [
    "## Calculating residuals"
   ]
  },
  {
   "cell_type": "code",
   "execution_count": null,
   "metadata": {},
   "outputs": [],
   "source": [
    "res_z = Bz_true - bz\n",
    "res_x = Bx_true - bx\n",
    "res_y = By_true - by\n",
    "res_B = Ba_true - b_tot"
   ]
  },
  {
   "cell_type": "markdown",
   "metadata": {},
   "source": [
    "### Result Analysis"
   ]
  },
  {
   "cell_type": "markdown",
   "metadata": {},
   "source": [
    "### Data fitting"
   ]
  },
  {
   "cell_type": "code",
   "execution_count": null,
   "metadata": {},
   "outputs": [],
   "source": [
    "title_font = 22\n",
    "bottom_font = 20\n",
    "plt.figure(figsize=(28,11), tight_layout=True)\n",
    "\n",
    "\n",
    "ranges = np.abs([data['bz_obs'].max(),\n",
    "                 data['bz_obs'].min()]).max()\n",
    "\n",
    "ax1=plt.subplot(1,4,1)\n",
    "\n",
    "plt.title('(a) Bz (observed)', fontsize=title_font)\n",
    "plt.xlabel('y (mm)',fontsize = title_font)\n",
    "plt.ylabel('x (mm)',fontsize = title_font)\n",
    "plt.contourf(1e-3*yp.reshape(grid['shape']),\n",
    "             1e-3*xp.reshape(grid['shape']),\n",
    "             data['bz_obs'].reshape(grid['shape']),\n",
    "             50,cmap='viridis',vmin=-ranges,vmax=ranges)\n",
    "plt.tick_params(axis='both', which='major', labelsize=bottom_font)\n",
    "cb = plt.colorbar(pad=0.01, aspect=40, shrink=1.0)\n",
    "cb.set_label('mT',size=bottom_font)\n",
    "cb.ax.tick_params(labelsize=bottom_font)\n",
    "\n",
    "\n",
    "ax2=plt.subplot(1,4,2)\n",
    "\n",
    "plt.title('(b) Bz (predicted) ', fontsize=title_font)\n",
    "plt.xlabel('y (mm)',fontsize = title_font)\n",
    "plt.ylabel('x (mm)',fontsize = title_font)\n",
    "plt.contourf(1e-3*yp.reshape(grid['shape']),\n",
    "             1e-3*xp.reshape(grid['shape']),\n",
    "             bz.reshape(grid['shape']),\n",
    "             50,cmap='viridis',vmin=-ranges,vmax=ranges)\n",
    "plt.tick_params(axis='both', which='major', labelsize=bottom_font)\n",
    "cb = plt.colorbar(pad=0.01, aspect=40, shrink=1.0)\n",
    "cb.set_label('mT',size=bottom_font)\n",
    "cb.ax.tick_params(labelsize=bottom_font)\n",
    "\n",
    "\n",
    "ax3=plt.subplot(1,4,3)\n",
    "plt.title('(c) Residuals map', fontsize=title_font)\n",
    "plt.xlabel('y (mm)',fontsize = title_font)\n",
    "plt.ylabel('x (mm)',fontsize = title_font)\n",
    "plt.contourf(1e-3*yp.reshape(grid['shape']),\n",
    "             1e-3*xp.reshape(grid['shape']),\n",
    "             res_z.reshape(grid['shape']),50,cmap='viridis')\n",
    "plt.tick_params(axis='both', which='major', labelsize=bottom_font)\n",
    "cb = plt.colorbar(pad=0.01, aspect=40, shrink=1.0)\n",
    "cb.set_label('mT',size=bottom_font)\n",
    "cb.ax.tick_params(labelsize=bottom_font)\n",
    "\n",
    "ax4=plt.subplot(1,4,4)\n",
    "\n",
    "plt.title('(d) Histogram of residuals', fontsize =title_font)\n",
    "plt.xlabel('Residuals (mT)', fontsize = title_font)\n",
    "plt.ylabel('Frequency', fontsize = title_font)\n",
    "plt.text(0.025, 0.97, \"mean = {:.2f}\\nstd  = {:.2f} \".format(np.mean(res_z), np.std(res_z)),\n",
    "         horizontalalignment='left',\n",
    "         verticalalignment='top',\n",
    "         transform = ax4.transAxes, fontsize=15)\n",
    "n, bins, patches = plt.hist(res_z,bins=30, normed=True, facecolor='black')\n",
    "#ax4.set_xticks([-.0000008,0.0,.00000008])\n",
    "#ax4.set_yticks([.0,10])\n",
    "plt.tick_params(axis='both', which='major', labelsize=bottom_font)\n",
    "\n",
    "\n",
    "\n",
    "########################################################################### \n",
    "file_name = 'figs/results_data_fitting_Bz'\n",
    "plt.savefig(file_name+'.png',dpi=400)\n",
    "saved_files.append(file_name+'.png')\n",
    "\n",
    "plt.show()"
   ]
  },
  {
   "cell_type": "markdown",
   "metadata": {},
   "source": [
    "### Visualization of calculated components"
   ]
  },
  {
   "cell_type": "code",
   "execution_count": null,
   "metadata": {},
   "outputs": [],
   "source": [
    "title_font = 22\n",
    "bottom_font = 20\n",
    "plt.figure(figsize=(22,22), tight_layout=True)\n",
    "\n",
    "\n",
    "ax1=plt.subplot(2,2,1)\n",
    "\n",
    "plt.title('(a) Bz (predicted)', fontsize=title_font)\n",
    "plt.xlabel('y (mm)',fontsize = title_font)\n",
    "plt.ylabel('x (mm)',fontsize = title_font)\n",
    "\n",
    "plt.contourf(1e-3*yp.reshape(grid['shape']),\n",
    "             1e-3*xp.reshape(grid['shape']),\n",
    "             bz.reshape(grid['shape']),50,cmap='viridis')\n",
    "plt.tick_params(axis='both', which='major', labelsize=bottom_font)\n",
    "cb = plt.colorbar(pad=0.01, aspect=40, shrink=1.0)\n",
    "cb.set_label('mT',size=bottom_font)\n",
    "cb.ax.tick_params(labelsize=bottom_font)\n",
    "\n",
    "\n",
    "ax2=plt.subplot(2,2,2)\n",
    "\n",
    "plt.title('(b) Bx (predicted) ', fontsize=title_font)\n",
    "plt.xlabel('y (mm)',fontsize = title_font)\n",
    "plt.ylabel('x (mm)',fontsize = title_font)\n",
    "plt.contourf(1e-3*yp.reshape(grid['shape']),\n",
    "             1e-3*xp.reshape(grid['shape']),\n",
    "             bx.reshape(grid['shape']),50,cmap='viridis')\n",
    "plt.tick_params(axis='both', which='major', labelsize=bottom_font)\n",
    "cb = plt.colorbar(pad=0.01, aspect=40, shrink=1.0)\n",
    "cb.set_label('mT',size=bottom_font)\n",
    "cb.ax.tick_params(labelsize=bottom_font)\n",
    "\n",
    "\n",
    "ax3=plt.subplot(2,2,3)\n",
    "plt.title('(c) By (predicted)', fontsize=title_font)\n",
    "plt.xlabel('y (mm)',fontsize = title_font)\n",
    "plt.ylabel('x (mm)',fontsize = title_font)\n",
    "plt.contourf(1e-3*yp.reshape(grid['shape']),\n",
    "             1e-3*xp.reshape(grid['shape']),\n",
    "             by.reshape(grid['shape']),50,cmap='viridis')\n",
    "plt.tick_params(axis='both', which='major', labelsize=bottom_font)\n",
    "cb = plt.colorbar(pad=0.01, aspect=40, shrink=1.0)\n",
    "cb.set_label('mT',size=bottom_font)\n",
    "cb.ax.tick_params(labelsize=bottom_font)\n",
    "\n",
    "\n",
    "ax4=plt.subplot(2,2,4)\n",
    "\n",
    "plt.title('(d) Amplitude total field', fontsize=title_font)\n",
    "plt.xlabel('y (mm)',fontsize = title_font)\n",
    "plt.ylabel('x (mm)',fontsize = title_font)\n",
    "plt.contourf(1e-3*yp.reshape(grid['shape']),\n",
    "             1e-3*xp.reshape(grid['shape']),\n",
    "             b_tot.reshape(grid['shape']),50,cmap='inferno')\n",
    "plt.tick_params(axis='both', which='major', labelsize=bottom_font)\n",
    "cb = plt.colorbar(pad=0.01, aspect=40, shrink=1.0)\n",
    "cb.set_label('mT',size=bottom_font)\n",
    "cb.ax.tick_params(labelsize=bottom_font)\n",
    "\n",
    "\n",
    "########################################################################### \n",
    "file_name = 'figs/field_components_eqlayer'\n",
    "plt.savefig(file_name+'.png',dpi=400)\n",
    "saved_files.append(file_name+'.png')\n",
    "\n",
    "plt.show()"
   ]
  },
  {
   "cell_type": "markdown",
   "metadata": {},
   "source": [
    "## Comparison with the true and calculated"
   ]
  },
  {
   "cell_type": "markdown",
   "metadata": {},
   "source": [
    "### For Bx"
   ]
  },
  {
   "cell_type": "code",
   "execution_count": null,
   "metadata": {},
   "outputs": [],
   "source": [
    "title_font = 22\n",
    "bottom_font = 20\n",
    "plt.figure(figsize=(28,11), tight_layout=True)\n",
    "\n",
    "ranges = np.abs([data['bx_true'].max(),\n",
    "                 data['bx_true'].min()]).max()\n",
    "\n",
    "ax1=plt.subplot(1,4,1)\n",
    "\n",
    "plt.title('(a) Bx (observed)', fontsize=title_font)\n",
    "plt.xlabel('y (mm)',fontsize = title_font)\n",
    "plt.ylabel('x (mm)',fontsize = title_font)\n",
    "plt.contourf(1e-3*yp.reshape(grid['shape']),\n",
    "             1e-3*xp.reshape(grid['shape']),\n",
    "             data['bx_true'].reshape(grid['shape']),\n",
    "             50,cmap='viridis',vmin=-ranges,vmax=ranges)\n",
    "plt.tick_params(axis='both', which='major', labelsize=bottom_font)\n",
    "cb = plt.colorbar(pad=0.01, aspect=40, shrink=1.0)\n",
    "cb.set_label('mT',size=bottom_font)\n",
    "cb.ax.tick_params(labelsize=bottom_font)\n",
    "\n",
    "\n",
    "ax2=plt.subplot(1,4,2)\n",
    "\n",
    "plt.title('(b) Bx (predicted) ', fontsize=title_font)\n",
    "plt.xlabel('y (mm)',fontsize = title_font)\n",
    "plt.ylabel('x (mm)',fontsize = title_font)\n",
    "plt.contourf(1e-3*yp.reshape(grid['shape']),\n",
    "             1e-3*xp.reshape(grid['shape']),\n",
    "             bx.reshape(grid['shape']),\n",
    "             50,cmap='viridis',vmin=-ranges,vmax=ranges)\n",
    "plt.tick_params(axis='both', which='major', labelsize=bottom_font)\n",
    "cb = plt.colorbar(pad=0.01, aspect=40, shrink=1.0)\n",
    "cb.set_label('mT',size=bottom_font)\n",
    "cb.ax.tick_params(labelsize=bottom_font)\n",
    "\n",
    "\n",
    "ax3=plt.subplot(1,4,3)\n",
    "\n",
    "plt.title('(c) Residuals map', fontsize=title_font)\n",
    "plt.xlabel('y (mm)',fontsize = title_font)\n",
    "plt.ylabel('x (mm)',fontsize = title_font)\n",
    "plt.contourf(1e-3*yp.reshape(grid['shape']),\n",
    "             1e-3*xp.reshape(grid['shape']),\n",
    "             res_x.reshape(grid['shape']),50,cmap='viridis')\n",
    "plt.tick_params(axis='both', which='major', labelsize=bottom_font)\n",
    "cb = plt.colorbar(pad=0.01, aspect=40, shrink=1.0)\n",
    "cb.set_label('mT',size=bottom_font)\n",
    "cb.ax.tick_params(labelsize=bottom_font)\n",
    "\n",
    "ax4=plt.subplot(1,4,4)\n",
    "\n",
    "plt.title('(d) Histogram of residuals', fontsize =title_font)\n",
    "plt.xlabel('Residuals (mT)', fontsize = title_font)\n",
    "plt.ylabel('Frequency', fontsize = title_font)\n",
    "plt.text(0.025, 0.97, \"mean = {:.2f}\\nstd  = {:.2f} \".format(np.mean(res_x), np.std(res_x)),\n",
    "         horizontalalignment='left',\n",
    "         verticalalignment='top',\n",
    "         transform = ax4.transAxes, fontsize=15)\n",
    "n, bins, patches = plt.hist(res_x,bins=30, normed=True, facecolor='black')\n",
    "#ax4.set_xticks([-.0000008,0.0,.00000008])\n",
    "#ax4.set_yticks([.0,10])\n",
    "plt.tick_params(axis='both', which='major', labelsize=bottom_font)\n",
    "\n",
    "\n",
    "########################################################################### \n",
    "file_name = 'figs/results_data_fitting_bx'\n",
    "plt.savefig(file_name+'.png',dpi=400)\n",
    "saved_files.append(file_name+'.png')\n",
    "\n",
    "plt.show()"
   ]
  },
  {
   "cell_type": "markdown",
   "metadata": {},
   "source": [
    "### For By"
   ]
  },
  {
   "cell_type": "code",
   "execution_count": null,
   "metadata": {},
   "outputs": [],
   "source": [
    "title_font = 22\n",
    "bottom_font = 20\n",
    "plt.figure(figsize=(28,11), tight_layout=True)\n",
    "\n",
    "\n",
    "ranges = np.abs([data['by_true'].max(),\n",
    "                 data['by_true'].min()]).max()\n",
    "\n",
    "ax1=plt.subplot(1,4,1)\n",
    "\n",
    "plt.title('(a) By (observed)', fontsize=title_font)\n",
    "plt.xlabel('y (mm)',fontsize = title_font)\n",
    "plt.ylabel('x (mm)',fontsize = title_font)\n",
    "plt.contourf(1e-3*yp.reshape(grid['shape']),\n",
    "             1e-3*xp.reshape(grid['shape']),\n",
    "             data['by_true'].reshape(grid['shape']),\n",
    "             50,cmap='viridis',vmin=-ranges,vmax=ranges)\n",
    "plt.tick_params(axis='both', which='major', labelsize=bottom_font)\n",
    "cb = plt.colorbar(pad=0.01, aspect=40, shrink=1.0)\n",
    "cb.set_label('mT',size=bottom_font)\n",
    "cb.ax.tick_params(labelsize=bottom_font)\n",
    "\n",
    "\n",
    "ax2=plt.subplot(1,4,2)\n",
    "\n",
    "plt.title('(b) By (predicted) ', fontsize=title_font)\n",
    "plt.xlabel('y (mm)',fontsize = title_font)\n",
    "plt.ylabel('x (mm)',fontsize = title_font)\n",
    "plt.contourf(1e-3*yp.reshape(grid['shape']),\n",
    "             1e-3*xp.reshape(grid['shape']),\n",
    "             by.reshape(grid['shape']),\n",
    "             50,cmap='viridis',vmin=-ranges,vmax=ranges)\n",
    "plt.tick_params(axis='both', which='major', labelsize=bottom_font)\n",
    "cb = plt.colorbar(pad=0.01, aspect=40, shrink=1.0)\n",
    "cb.set_label('mT',size=bottom_font)\n",
    "cb.ax.tick_params(labelsize=bottom_font)\n",
    "\n",
    "\n",
    "ax3=plt.subplot(1,4,3)\n",
    "\n",
    "plt.title('(c) Residuals map', fontsize=title_font)\n",
    "plt.xlabel('y (mm)',fontsize = title_font)\n",
    "plt.ylabel('x (mm)',fontsize = title_font)\n",
    "plt.contourf(1e-3*yp.reshape(grid['shape']),\n",
    "             1e-3*xp.reshape(grid['shape']),\n",
    "             res_y.reshape(grid['shape']),50,cmap='viridis')\n",
    "plt.tick_params(axis='both', which='major', labelsize=bottom_font)\n",
    "cb = plt.colorbar(pad=0.01, aspect=40, shrink=1.0)\n",
    "cb.set_label('mT',size=bottom_font)\n",
    "cb.ax.tick_params(labelsize=bottom_font)\n",
    "\n",
    "\n",
    "ax4=plt.subplot(1,4,4)\n",
    "\n",
    "plt.title('(d) Histogram of residuals', fontsize =title_font)\n",
    "plt.xlabel('Residuals (mT)', fontsize = title_font)\n",
    "plt.ylabel('Frequency', fontsize = title_font)\n",
    "plt.text(0.025, 0.97, \"mean = {:.2f}\\nstd  = {:.2f} \".format(np.mean(res_y), np.std(res_y)),\n",
    "         horizontalalignment='left',\n",
    "         verticalalignment='top',\n",
    "         transform = ax4.transAxes, fontsize=15)\n",
    "n, bins, patches = plt.hist(res_y,bins=30, normed=True, facecolor='black')\n",
    "#ax4.set_xticks([-.0000008,0.0,.00000008])\n",
    "#ax4.set_yticks([.0,10])\n",
    "plt.tick_params(axis='both', which='major', labelsize=bottom_font)\n",
    "\n",
    "\n",
    "########################################################################### \n",
    "file_name = 'figs/results_data_fitting_by'\n",
    "plt.savefig(file_name+'.png',dpi=400)\n",
    "saved_files.append(file_name+'.png')\n",
    "\n",
    "plt.show()"
   ]
  },
  {
   "cell_type": "markdown",
   "metadata": {},
   "source": [
    "## For Amplitude of B"
   ]
  },
  {
   "cell_type": "code",
   "execution_count": null,
   "metadata": {},
   "outputs": [],
   "source": [
    "title_font = 22\n",
    "bottom_font = 20\n",
    "plt.figure(figsize=(28,11), tight_layout=True)\n",
    "\n",
    "ranges = np.abs([data['B_true'].max(),\n",
    "                 data['B_true'].min()]).max()\n",
    "\n",
    "ax1=plt.subplot(1,4,1)\n",
    "plt.title('(a) Amplitude of B (observed)', fontsize=title_font)\n",
    "plt.xlabel('y (mm)',fontsize = title_font)\n",
    "plt.ylabel('x (mm)',fontsize = title_font)\n",
    "plt.contourf(1e-3*yp.reshape(grid['shape']),\n",
    "             1e-3*xp.reshape(grid['shape']),\n",
    "             data['B_true'].reshape(grid['shape']),\n",
    "             50,cmap='viridis',vmin=-ranges,vmax=ranges)\n",
    "plt.tick_params(axis='both', which='major', labelsize=bottom_font)\n",
    "cb = plt.colorbar(pad=0.01, aspect=40, shrink=1.0)\n",
    "cb.set_label('mT',size=bottom_font)\n",
    "cb.ax.tick_params(labelsize=bottom_font)\n",
    "\n",
    "\n",
    "ax2=plt.subplot(1,4,2)\n",
    "plt.title('(b) Amplitude of B (predicted) ', fontsize=title_font)\n",
    "plt.xlabel('y (mm)',fontsize = title_font)\n",
    "plt.ylabel('x (mm)',fontsize = title_font)\n",
    "plt.contourf(1e-3*yp.reshape(grid['shape']),\n",
    "             1e-3*xp.reshape(grid['shape']),\n",
    "             b_tot.reshape(grid['shape']),\n",
    "             50,cmap='viridis',vmin=-ranges,vmax=ranges)\n",
    "plt.tick_params(axis='both', which='major', labelsize=bottom_font)\n",
    "cb = plt.colorbar(pad=0.01, aspect=40, shrink=1.0)\n",
    "cb.set_label('mT',size=bottom_font)\n",
    "cb.ax.tick_params(labelsize=bottom_font)\n",
    "\n",
    "\n",
    "ax3=plt.subplot(1,4,3)\n",
    "plt.title('(c) Residuals map', fontsize=title_font)\n",
    "plt.xlabel('y (mm)',fontsize = title_font)\n",
    "plt.ylabel('x (mm)',fontsize = title_font)\n",
    "plt.contourf(1e-3*yp.reshape(grid['shape']),\n",
    "             1e-3*xp.reshape(grid['shape']),\n",
    "             res_B.reshape(grid['shape']),50,cmap='viridis')\n",
    "plt.tick_params(axis='both', which='major', labelsize=bottom_font)\n",
    "cb = plt.colorbar(pad=0.01, aspect=40, shrink=1.0)\n",
    "cb.set_label('mT',size=bottom_font)\n",
    "cb.ax.tick_params(labelsize=bottom_font)\n",
    "\n",
    "\n",
    "ax4=plt.subplot(1,4,4)\n",
    "plt.title('(d) Histogram of residuals', fontsize =title_font)\n",
    "plt.xlabel('Residuals (mT)', fontsize = title_font)\n",
    "plt.ylabel('Frequency', fontsize = title_font)\n",
    "plt.text(0.025, 0.97, \"mean = {:.2f}\\nstd  = {:.2f} \".format(np.mean(res_B), np.std(res_B)),\n",
    "         horizontalalignment='left',\n",
    "         verticalalignment='top',\n",
    "         transform = ax4.transAxes, fontsize=15)\n",
    "n, bins, patches = plt.hist(res_B,bins=30, normed=True, facecolor='black')\n",
    "#ax4.set_xticks([-.0000008,0.0,.00000008])\n",
    "#ax4.set_yticks([.0,10])\n",
    "plt.tick_params(axis='both', which='major', labelsize=bottom_font)\n",
    "\n",
    "########################################################################### \n",
    "file_name = 'figs/results_data_fitting_B'\n",
    "plt.savefig(file_name+'.png',dpi=400)\n",
    "saved_files.append(file_name+'.png')\n",
    "\n",
    "plt.show()"
   ]
  },
  {
   "cell_type": "code",
   "execution_count": null,
   "metadata": {},
   "outputs": [],
   "source": []
  }
 ],
 "metadata": {
  "kernelspec": {
   "display_name": "Python 2",
   "language": "python",
   "name": "python2"
  },
  "language_info": {
   "codemirror_mode": {
    "name": "ipython",
    "version": 2
   },
   "file_extension": ".py",
   "mimetype": "text/x-python",
   "name": "python",
   "nbconvert_exporter": "python",
   "pygments_lexer": "ipython2",
   "version": "2.7.16"
  }
 },
 "nbformat": 4,
 "nbformat_minor": 2
}
