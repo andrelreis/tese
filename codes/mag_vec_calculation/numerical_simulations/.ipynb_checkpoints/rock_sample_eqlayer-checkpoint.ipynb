{
 "cells": [
  {
   "cell_type": "markdown",
   "metadata": {},
   "source": [
    "# Vredefort sample data set from PUC-rio"
   ]
  },
  {
   "cell_type": "markdown",
   "metadata": {},
   "source": [
    "#### Import libraries"
   ]
  },
  {
   "cell_type": "code",
   "execution_count": null,
   "metadata": {},
   "outputs": [],
   "source": [
    "%matplotlib inline\n",
    "from IPython.display import Markdown as md\n",
    "from IPython.display import display as dp\n",
    "import string as st\n",
    "import sys\n",
    "import numpy as np\n",
    "import matplotlib.pyplot as plt\n",
    "import cPickle as pickle\n",
    "import datetime\n",
    "\n",
    "from mpl_toolkits.axes_grid1.inset_locator import inset_axes\n",
    "from fatiando.utils import ang2vec, vec2ang\n",
    "from fatiando.mesher import Sphere, Prism, PolygonalPrism, PrismMesh\n",
    "from fatiando.gravmag import sphere, prism, polyprism\n",
    "from fatiando.gridder import regular"
   ]
  },
  {
   "cell_type": "code",
   "execution_count": null,
   "metadata": {},
   "outputs": [],
   "source": [
    "notebook_name = 'rock_sample_eqlayer.ipynb'"
   ]
  },
  {
   "cell_type": "markdown",
   "metadata": {},
   "source": [
    "#### Importing auxiliary functions"
   ]
  },
  {
   "cell_type": "code",
   "execution_count": null,
   "metadata": {},
   "outputs": [],
   "source": [
    "dir_modules = '../'\n",
    "sys.path.append(dir_modules)"
   ]
  },
  {
   "cell_type": "code",
   "execution_count": null,
   "metadata": {},
   "outputs": [],
   "source": [
    "import auxiliary_functions as fc"
   ]
  },
  {
   "cell_type": "markdown",
   "metadata": {},
   "source": [
    "## Loading data "
   ]
  },
  {
   "cell_type": "code",
   "execution_count": null,
   "metadata": {},
   "outputs": [],
   "source": [
    "with open('data/data_set.pickle') as f:\n",
    "        data = pickle.load(f)"
   ]
  },
  {
   "cell_type": "markdown",
   "metadata": {},
   "source": [
    "#### List of saved files"
   ]
  },
  {
   "cell_type": "code",
   "execution_count": null,
   "metadata": {},
   "outputs": [],
   "source": [
    "saved_files = []"
   ]
  },
  {
   "cell_type": "markdown",
   "metadata": {},
   "source": [
    "### Parameters of acquisition"
   ]
  },
  {
   "cell_type": "code",
   "execution_count": null,
   "metadata": {},
   "outputs": [],
   "source": [
    "xp,yp,zp = regular(data['area'],data['shape_decimated'],data['z_obs'])"
   ]
  },
  {
   "cell_type": "code",
   "execution_count": null,
   "metadata": {},
   "outputs": [],
   "source": [
    "Y = yp.reshape(data['shape_decimated'])\n",
    "X = xp.reshape(data['shape_decimated'])"
   ]
  },
  {
   "cell_type": "code",
   "execution_count": null,
   "metadata": {},
   "outputs": [],
   "source": [
    "Nx,Ny = data['shape_decimated'][0],data['shape_decimated'][1]"
   ]
  },
  {
   "cell_type": "markdown",
   "metadata": {},
   "source": [
    "### Visualization of data set of Vredefort sample"
   ]
  },
  {
   "cell_type": "code",
   "execution_count": null,
   "metadata": {},
   "outputs": [],
   "source": [
    "title_font = 20\n",
    "bottom_font = 16\n",
    "saturation_factor = 1.\n",
    "plt.close('all')\n",
    "plt.figure(figsize=(8,8), tight_layout=True)\n",
    "\n",
    "plt.contourf(1e-3*Y.reshape(data['shape_decimated']),\n",
    "             1e-3*X.reshape(data['shape_decimated']),data['obs_decimated'],50,cmap='viridis')\n",
    "plt.colorbar(pad=0.01, aspect=40, shrink=1.0).set_label('mT')\n",
    "plt.xlabel('y (mm)', fontsize = title_font)\n",
    "plt.ylabel('x (mm)', fontsize = title_font)\n",
    "plt.title('Bz (observed data)', fontsize=title_font)\n",
    "\n",
    "\n",
    "file_name = 'figs/vred_data_bz'\n",
    "plt.savefig(file_name+'.png',dpi=200)\n",
    "saved_files.append(file_name+'.png')\n",
    "\n",
    "plt.show()"
   ]
  },
  {
   "cell_type": "markdown",
   "metadata": {},
   "source": [
    "## Generating a PrismMesh model"
   ]
  },
  {
   "cell_type": "code",
   "execution_count": null,
   "metadata": {},
   "outputs": [],
   "source": [
    "inc,dec = 90.,0."
   ]
  },
  {
   "cell_type": "code",
   "execution_count": null,
   "metadata": {},
   "outputs": [],
   "source": [
    "mag = ang2vec(1,inc,dec)"
   ]
  },
  {
   "cell_type": "code",
   "execution_count": null,
   "metadata": {},
   "outputs": [],
   "source": [
    "data['area']"
   ]
  },
  {
   "cell_type": "code",
   "execution_count": null,
   "metadata": {},
   "outputs": [],
   "source": [
    "layer = [-36084.0, 0.0, 0.0, 29636.0,750., 751.]"
   ]
  },
  {
   "cell_type": "code",
   "execution_count": null,
   "metadata": {},
   "outputs": [],
   "source": [
    "model = PrismMesh(layer,(1,Ny,Nx))"
   ]
  },
  {
   "cell_type": "code",
   "execution_count": null,
   "metadata": {},
   "outputs": [],
   "source": [
    "data_obs = data['obs_decimated'].ravel()"
   ]
  },
  {
   "cell_type": "code",
   "execution_count": null,
   "metadata": {},
   "outputs": [],
   "source": [
    "G_z = fc.sensitivity_bz(xp,yp,zp,model,inc,dec)\n",
    "G_x = fc.sensitivity_bx(xp,yp,zp,model,inc,dec)\n",
    "G_y = fc.sensitivity_by(xp,yp,zp,model,inc,dec)"
   ]
  },
  {
   "cell_type": "code",
   "execution_count": null,
   "metadata": {},
   "outputs": [],
   "source": [
    "mu = 3*1e-17\n",
    "I = np.identity(Nx*Ny)"
   ]
  },
  {
   "cell_type": "code",
   "execution_count": null,
   "metadata": {},
   "outputs": [],
   "source": [
    "p = np.linalg.solve(np.dot(G_z.T,G_z) + mu*I,np.dot(G_z.T,data_obs))"
   ]
  },
  {
   "cell_type": "markdown",
   "metadata": {},
   "source": [
    "## Calculating predicted data"
   ]
  },
  {
   "cell_type": "code",
   "execution_count": null,
   "metadata": {},
   "outputs": [],
   "source": [
    "bz = np.dot(G_z,p) \n",
    "bx = np.dot(G_x,p)\n",
    "by = np.dot(G_y,p) "
   ]
  },
  {
   "cell_type": "code",
   "execution_count": null,
   "metadata": {},
   "outputs": [],
   "source": [
    "b_tot = np.sqrt(bx*bx + by*by + bz*bz)"
   ]
  },
  {
   "cell_type": "code",
   "execution_count": null,
   "metadata": {},
   "outputs": [],
   "source": [
    "res = data_obs - bz"
   ]
  },
  {
   "cell_type": "markdown",
   "metadata": {},
   "source": [
    "### Result Analysis"
   ]
  },
  {
   "cell_type": "markdown",
   "metadata": {},
   "source": [
    "### Data fitting"
   ]
  },
  {
   "cell_type": "code",
   "execution_count": null,
   "metadata": {},
   "outputs": [],
   "source": [
    "title_font = 17\n",
    "bottom_font = 14\n",
    "plt.figure(figsize=(25,8), tight_layout=True)\n",
    "plt.style.use('ggplot')\n",
    "\n",
    "ranges = np.abs([data['obs_decimated'].max(),\n",
    "                 data['obs_decimated'].min()]).max()\n",
    "\n",
    "\n",
    "ax1=plt.subplot(1,4,1)\n",
    "plt.contourf(1e-3*Y.reshape(data['shape_decimated']),\n",
    "             1e-3*X.reshape(data['shape_decimated']),\n",
    "             data['obs_decimated'],50,cmap='viridis',vmin=-ranges,vmax=ranges)\n",
    "plt.colorbar(pad=0.01, aspect=40, shrink=1.0).set_label('mT')\n",
    "plt.tick_params(axis='both', which='major', labelsize=bottom_font)\n",
    "plt.title('(a) Bz (observed)', fontsize=title_font)\n",
    "plt.xlabel('y (mm)',fontsize = title_font)\n",
    "plt.ylabel('x (mm)',fontsize = title_font)\n",
    "\n",
    "ax2=plt.subplot(1,4,2)\n",
    "plt.contourf(1e-3*Y.reshape(data['shape_decimated']),\n",
    "             1e-3*X.reshape(data['shape_decimated']),\n",
    "             bz.reshape(data['shape_decimated']),50,cmap='viridis',vmin=-ranges,vmax=ranges)\n",
    "plt.colorbar(pad=0.01, aspect=40, shrink=1.0).set_label('mT')\n",
    "plt.tick_params(axis='both', which='major', labelsize=bottom_font)\n",
    "plt.title('(b) Bz (predicted) ', fontsize=title_font)\n",
    "plt.xlabel('y (mm)',fontsize = title_font)\n",
    "plt.ylabel('x (mm)',fontsize = title_font)\n",
    "\n",
    "ax3=plt.subplot(1,4,3)\n",
    "plt.contourf(1e-3*Y.reshape(data['shape_decimated']),\n",
    "             1e-3*X.reshape(data['shape_decimated']),\n",
    "             res.reshape(data['shape_decimated']),50,cmap='viridis')\n",
    "plt.colorbar(pad=0.01, aspect=40, shrink=1.0).set_label('mT')\n",
    "plt.tick_params(axis='both', which='major', labelsize=bottom_font)\n",
    "plt.title('(c) Residuals map', fontsize=title_font)\n",
    "plt.xlabel('y (mm)',fontsize = title_font)\n",
    "plt.ylabel('x (mm)',fontsize = title_font)\n",
    "\n",
    "ax4=plt.subplot(1,4,4)\n",
    "plt.text(0.025, 0.97, \"mean = {:.2f}\\nstd  = {:.2f} \".format(np.mean(res), np.std(res)),\n",
    "         horizontalalignment='left',\n",
    "         verticalalignment='top',\n",
    "         transform = ax4.transAxes, fontsize=15)\n",
    "n, bins, patches = plt.hist(res,bins=20, normed=True, facecolor='black')\n",
    "#ax4.set_xticks([-.0000008,0.0,.00000008])\n",
    "#ax4.set_yticks([.0,10])\n",
    "plt.tick_params(axis='both', which='major', labelsize=bottom_font)\n",
    "plt.title('(d) Histogram of residuals', fontsize =title_font)\n",
    "plt.xlabel('Residuals (nT)', fontsize = title_font)\n",
    "plt.ylabel('Frequency', fontsize = title_font)\n",
    "\n",
    "########################################################################### \n",
    "file_name = 'figs/results_data_fitting_mesh_prism'\n",
    "plt.savefig(file_name+'.png',dpi=400)\n",
    "saved_files.append(file_name+'.png')\n",
    "\n",
    "plt.savefig(file_name+'.eps',dpi=400)\n",
    "saved_files.append(file_name+'.eps')\n",
    "\n",
    "\n",
    "plt.show()"
   ]
  },
  {
   "cell_type": "markdown",
   "metadata": {},
   "source": [
    "### Visualization of components"
   ]
  },
  {
   "cell_type": "code",
   "execution_count": null,
   "metadata": {},
   "outputs": [],
   "source": [
    "title_font = 17\n",
    "bottom_font = 14\n",
    "plt.figure(figsize=(20,20), tight_layout=True)\n",
    "plt.style.use('ggplot')\n",
    "\n",
    "\n",
    "ax1=plt.subplot(2,2,1)\n",
    "plt.contourf(1e-3*Y.reshape(data['shape_decimated']),\n",
    "             1e-3*X.reshape(data['shape_decimated']),\n",
    "             bz.reshape(data['shape_decimated']),50,cmap='viridis')\n",
    "plt.colorbar(pad=0.01, aspect=40, shrink=1.0).set_label('mT')\n",
    "plt.tick_params(axis='both', which='major', labelsize=bottom_font)\n",
    "plt.title('(a) Bz (predicted)', fontsize=title_font)\n",
    "plt.xlabel('y (mm)',fontsize = title_font)\n",
    "plt.ylabel('x (mm)',fontsize = title_font)\n",
    "\n",
    "ax2=plt.subplot(2,2,2)\n",
    "plt.contourf(1e-3*Y.reshape(data['shape_decimated']),\n",
    "             1e-3*X.reshape(data['shape_decimated']),\n",
    "             bx.reshape(data['shape_decimated']),50,cmap='viridis')\n",
    "plt.colorbar(pad=0.01, aspect=40, shrink=1.0).set_label('mT')\n",
    "plt.tick_params(axis='both', which='major', labelsize=bottom_font)\n",
    "plt.title('(b) Bx (predicted) ', fontsize=title_font)\n",
    "plt.xlabel('y (mm)',fontsize = title_font)\n",
    "plt.ylabel('x (mm)',fontsize = title_font)\n",
    "\n",
    "ax3=plt.subplot(2,2,3)\n",
    "plt.contourf(1e-3*Y.reshape(data['shape_decimated']),\n",
    "             1e-3*X.reshape(data['shape_decimated']),\n",
    "             by.reshape(data['shape_decimated']),50,cmap='viridis')\n",
    "plt.colorbar(pad=0.01, aspect=40, shrink=1.0).set_label('mT')\n",
    "plt.tick_params(axis='both', which='major', labelsize=bottom_font)\n",
    "plt.title('(c) By (predicted)', fontsize=title_font)\n",
    "plt.xlabel('y (mm)',fontsize = title_font)\n",
    "plt.ylabel('x (mm)',fontsize = title_font)\n",
    "\n",
    "ax4=plt.subplot(2,2,4)\n",
    "plt.contourf(1e-3*Y.reshape(data['shape_decimated']),\n",
    "             1e-3*X.reshape(data['shape_decimated']),\n",
    "             b_tot.reshape(data['shape_decimated']),50,cmap='inferno')\n",
    "plt.colorbar(pad=0.01, aspect=40, shrink=1.0).set_label('mT')\n",
    "plt.tick_params(axis='both', which='major', labelsize=bottom_font)\n",
    "plt.title('(d) Amplitude total field', fontsize=title_font)\n",
    "plt.xlabel('y (mm)',fontsize = title_font)\n",
    "plt.ylabel('x (mm)',fontsize = title_font)\n",
    "\n",
    "########################################################################### \n",
    "file_name = 'figs/field_components_prism_mesh'\n",
    "plt.savefig(file_name+'.png',dpi=400)\n",
    "saved_files.append(file_name+'.png')\n",
    "\n",
    "plt.savefig(file_name+'.eps',dpi=400)\n",
    "saved_files.append(file_name+'.eps')\n",
    "\n",
    "\n",
    "plt.show()"
   ]
  },
  {
   "cell_type": "code",
   "execution_count": null,
   "metadata": {},
   "outputs": [],
   "source": []
  },
  {
   "cell_type": "code",
   "execution_count": null,
   "metadata": {},
   "outputs": [],
   "source": []
  }
 ],
 "metadata": {
  "kernelspec": {
   "display_name": "Python 2",
   "language": "python",
   "name": "python2"
  },
  "language_info": {
   "codemirror_mode": {
    "name": "ipython",
    "version": 2
   },
   "file_extension": ".py",
   "mimetype": "text/x-python",
   "name": "python",
   "nbconvert_exporter": "python",
   "pygments_lexer": "ipython2",
   "version": "2.7.16"
  }
 },
 "nbformat": 4,
 "nbformat_minor": 2
}
