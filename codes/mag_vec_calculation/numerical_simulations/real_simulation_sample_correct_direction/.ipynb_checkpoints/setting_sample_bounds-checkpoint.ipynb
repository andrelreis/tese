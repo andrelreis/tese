{
 "cells": [
  {
   "cell_type": "markdown",
   "metadata": {},
   "source": [
    "# Setting sample bounds for Vredefort thin section "
   ]
  },
  {
   "cell_type": "markdown",
   "metadata": {},
   "source": [
    "#### Import libraries"
   ]
  },
  {
   "cell_type": "code",
   "execution_count": 1,
   "metadata": {},
   "outputs": [
    {
     "name": "stderr",
     "output_type": "stream",
     "text": [
      "/home/andrelreis/anaconda2/lib/python2.7/site-packages/fatiando/vis/mpl.py:76: UserWarning: This module will be removed in v0.6. We recommend the use of matplotlib.pyplot module directly. Some of the fatiando specific functions will remain.\n",
      "  \"specific functions will remain.\")\n"
     ]
    }
   ],
   "source": [
    "import string as st\n",
    "import sys\n",
    "import numpy as np\n",
    "import matplotlib.pyplot as plt\n",
    "import cPickle as pickle\n",
    "import datetime\n",
    "\n",
    "from fatiando.utils import ang2vec, vec2ang,fromimage\n",
    "from fatiando.mesher import Sphere, Prism,PolygonalPrism\n",
    "from fatiando.gravmag import sphere,prism, polyprism\n",
    "from scipy.spatial import Delaunay"
   ]
  },
  {
   "cell_type": "code",
   "execution_count": 2,
   "metadata": {},
   "outputs": [],
   "source": [
    "notebook_name = 'setting_sample_bounds.ipynb'"
   ]
  },
  {
   "cell_type": "markdown",
   "metadata": {},
   "source": [
    "#### Importing auxiliary functions"
   ]
  },
  {
   "cell_type": "code",
   "execution_count": 5,
   "metadata": {},
   "outputs": [],
   "source": [
    "dir_modules = '../../'\n",
    "sys.path.append(dir_modules)"
   ]
  },
  {
   "cell_type": "code",
   "execution_count": 6,
   "metadata": {},
   "outputs": [],
   "source": [
    "import my_package as fc"
   ]
  },
  {
   "cell_type": "markdown",
   "metadata": {},
   "source": [
    "#### Constructing a dictionary"
   ]
  },
  {
   "cell_type": "code",
   "execution_count": 7,
   "metadata": {},
   "outputs": [],
   "source": [
    "set_bounds = dict()"
   ]
  },
  {
   "cell_type": "markdown",
   "metadata": {},
   "source": [
    "#### List of saved files"
   ]
  },
  {
   "cell_type": "code",
   "execution_count": null,
   "metadata": {},
   "outputs": [],
   "source": [
    "saved_files = []"
   ]
  },
  {
   "cell_type": "markdown",
   "metadata": {},
   "source": [
    "## Parameters of acquisition"
   ]
  },
  {
   "cell_type": "code",
   "execution_count": null,
   "metadata": {},
   "outputs": [],
   "source": [
    "set_bounds['shape']  = (101,69)\n",
    "set_bounds['Nx'], set_bounds['Ny'] = set_bounds['shape'][0],set_bounds['shape'][1]"
   ]
  },
  {
   "cell_type": "code",
   "execution_count": null,
   "metadata": {},
   "outputs": [],
   "source": [
    "set_bounds['area'] = [1700.,0.,0.,2500.]"
   ]
  },
  {
   "cell_type": "code",
   "execution_count": null,
   "metadata": {},
   "outputs": [],
   "source": [
    "x = np.linspace(set_bounds['area'][0],set_bounds['area'][1], set_bounds['Nx'])\n",
    "y = np.linspace(set_bounds['area'][2],set_bounds['area'][3], set_bounds['Ny'])"
   ]
  },
  {
   "cell_type": "code",
   "execution_count": null,
   "metadata": {},
   "outputs": [],
   "source": [
    "Y,X = np.meshgrid(y,x)"
   ]
  },
  {
   "cell_type": "code",
   "execution_count": null,
   "metadata": {},
   "outputs": [],
   "source": [
    "print X.shape"
   ]
  },
  {
   "cell_type": "markdown",
   "metadata": {},
   "source": [
    "## Setting sample bounds with pic image"
   ]
  },
  {
   "cell_type": "code",
   "execution_count": null,
   "metadata": {},
   "outputs": [],
   "source": [
    "img = fromimage('real_data/vredefort_image.png', ranges=None, shape=(69,101)).T"
   ]
  },
  {
   "cell_type": "code",
   "execution_count": null,
   "metadata": {},
   "outputs": [],
   "source": [
    "% matplotlib notebook\n",
    "fig = plt.figure(figsize=(7,7), tight_layout=True)\n",
    "\n",
    "ax = fig.add_subplot(111)\n",
    "ax.set_title('Click on figure to set any point')\n",
    "plt.contourf(Y,X,img,30,cmap='viridis')\n",
    "ax.axis([Y.min(), Y.max(), X.min(), X.max()])\n",
    "ax.set_ylabel('x(um)')\n",
    "ax.set_xlabel('y(um)')\n",
    "\n",
    "\n",
    "line, = ax.plot([], [])\n",
    "line.figure.canvas.draw()\n",
    "x = []\n",
    "y = []\n",
    "plotx = []\n",
    "ploty = []\n",
    "def pick(event):\n",
    "    if event.inaxes != ax.axes:\n",
    "        return 'It must be any point over de area '\n",
    "    x.append(event.xdata)\n",
    "    y.append(event.ydata)\n",
    "    plotx.append(event.xdata)\n",
    "    ploty.append(event.ydata)\n",
    "    line.set_color('r')\n",
    "    line.set_marker('o')\n",
    "    line.set_linestyle('')\n",
    "    line.set_data(plotx,ploty)\n",
    "    line.figure.canvas.draw()\n",
    "\n",
    "line.figure.canvas.mpl_connect('button_press_event', pick)\n",
    "\n",
    "plt.show()"
   ]
  },
  {
   "cell_type": "code",
   "execution_count": null,
   "metadata": {},
   "outputs": [],
   "source": [
    "print x"
   ]
  },
  {
   "cell_type": "code",
   "execution_count": null,
   "metadata": {},
   "outputs": [],
   "source": [
    "print y"
   ]
  },
  {
   "cell_type": "markdown",
   "metadata": {},
   "source": [
    "### Vertices of a set of polygons"
   ]
  },
  {
   "cell_type": "markdown",
   "metadata": {},
   "source": [
    "#### First polygon"
   ]
  },
  {
   "cell_type": "code",
   "execution_count": null,
   "metadata": {},
   "outputs": [],
   "source": [
    "set_bounds['vert1_x'] = [1398.2759143632436, 1513.1053106887027, 1584.1901750806537, 1917.7422310736547, 2032.5716273991138, 1573.2540420972766, 1573.2540420972766, 1370.9355819048008, 1119.4045232871281, 1113.9364567954394, 1217.8297201375217, 1245.1700525959645, 1135.8087227621936, 1113.9364567954394]\n",
    "set_bounds['vert1_y'] = [897.96924415361923, 841.02311965375873, 677.30301171666008, 542.05596602949151, 449.51851371721841, 435.28198259225326, 349.86279584246267, 360.54019418618645, 524.26030212328521, 588.32469218562812, 591.88382496686938, 652.38908224797115, 705.77607396659027, 876.61444746617144]"
   ]
  },
  {
   "cell_type": "code",
   "execution_count": null,
   "metadata": {},
   "outputs": [],
   "source": [
    "set_bounds['poly1_x'] = [1398.2759143632436, 1513.1053106887027, 1584.1901750806537, 1917.7422310736547, 2032.5716273991138, 1573.2540420972766, 1573.2540420972766, 1370.9355819048008, 1119.4045232871281, 1113.9364567954394, 1217.8297201375217, 1245.1700525959645, 1135.8087227621936, 1113.9364567954394,1398.2759143632436]\n",
    "set_bounds['poly1_y'] = [897.96924415361923, 841.02311965375873, 677.30301171666008, 542.05596602949151, 449.51851371721841, 435.28198259225326, 349.86279584246267, 360.54019418618645, 524.26030212328521, 588.32469218562812, 591.88382496686938, 652.38908224797115, 705.77607396659027, 876.61444746617144,897.96924415361923]"
   ]
  },
  {
   "cell_type": "markdown",
   "metadata": {},
   "source": [
    "#### Second polygon"
   ]
  },
  {
   "cell_type": "code",
   "execution_count": null,
   "metadata": {},
   "outputs": [],
   "source": [
    "set_bounds['vert2_x'] = [1108.468390303751, 567.12980762658572, 578.06594060996281, 747.5760018523074, 911.61799660296356, 1163.1490552206365, 1354.5313824297352, 1753.7002363229985, 1458.4246457718175, 1206.8935871541446, 1097.5322573203739, 1130.3406562705052, 1398.2759143632436]\n",
    "set_bounds['vert2_y'] = [877.68214385409874, 1148.1762352284359, 1205.1223597282963, 1162.4127663534009, 1319.014608728017, 1286.9824136968457, 1343.9285381967061, 1233.5954219782266, 1116.1440401972643, 1205.1223597282963, 1137.4988368847121, 1009.370056760026, 899.09624493908541]"
   ]
  },
  {
   "cell_type": "code",
   "execution_count": null,
   "metadata": {},
   "outputs": [],
   "source": [
    "set_bounds['poly2_x'] = [1108.468390303751, 567.12980762658572, 578.06594060996281, 747.5760018523074, 911.61799660296356, 1163.1490552206365, 1354.5313824297352, 1753.7002363229985, 1458.4246457718175, 1206.8935871541446, 1097.5322573203739, 1130.3406562705052, 1398.2759143632436,1108.468390303751]\n",
    "set_bounds['poly2_y'] = [877.68214385409874, 1148.1762352284359, 1205.1223597282963, 1162.4127663534009, 1319.014608728017, 1286.9824136968457, 1343.9285381967061, 1233.5954219782266, 1116.1440401972643, 1205.1223597282963, 1137.4988368847121, 1009.370056760026, 899.09624493908541,877.68214385409874]"
   ]
  },
  {
   "cell_type": "markdown",
   "metadata": {},
   "source": [
    "#### Third polygon"
   ]
  },
  {
   "cell_type": "code",
   "execution_count": null,
   "metadata": {},
   "outputs": [],
   "source": [
    "set_bounds['vert3_x'] = [1070.1919248619313, 1168.6171217123249, 1239.7019861042759, 1163.1490552206365]\n",
    "set_bounds['vert3_y'] = [1407.3403626538948, 1457.1682215912726, 1403.7812298726535, 1371.7490348414819]"
   ]
  },
  {
   "cell_type": "code",
   "execution_count": null,
   "metadata": {},
   "outputs": [],
   "source": [
    "set_bounds['poly3_x'] = [1070.1919248619313, 1168.6171217123249, 1239.7019861042759, 1163.1490552206365,1070.1919248619313]\n",
    "set_bounds['poly3_y'] = [1407.3403626538948, 1457.1682215912726, 1403.7812298726535, 1371.7490348414819,1407.3403626538948]"
   ]
  },
  {
   "cell_type": "markdown",
   "metadata": {},
   "source": [
    "#### Generating .pickle file"
   ]
  },
  {
   "cell_type": "code",
   "execution_count": null,
   "metadata": {},
   "outputs": [],
   "source": [
    "now = datetime.datetime.utcnow().strftime('%d %B %Y %H:%M:%S UTC')\n",
    "set_bounds['metadata'] = 'Generated by {name} on {date}'.format(date=now, name=notebook_name)"
   ]
  },
  {
   "cell_type": "code",
   "execution_count": null,
   "metadata": {},
   "outputs": [],
   "source": [
    "file_name = 'data/set_bounds.pickle'\n",
    "with open(file_name, 'w') as f:\n",
    "    pickle.dump(set_bounds, f)\n",
    "    \n",
    "saved_files.append(file_name)\n"
   ]
  },
  {
   "cell_type": "markdown",
   "metadata": {},
   "source": [
    "## Saved files"
   ]
  },
  {
   "cell_type": "code",
   "execution_count": null,
   "metadata": {},
   "outputs": [],
   "source": [
    "with open('reports/report_%s.md' % notebook_name[:st.index(notebook_name, '.')], 'w') as q:\n",
    "    q.write('# Saved files \\n')\n",
    "    now = datetime.datetime.utcnow().strftime('%d %B %Y %H:%M:%S UTC')\n",
    "    header = 'Generated by {name} on {date}'.format(date=now, name=notebook_name)\n",
    "    q.write('\\n\\n'+header+'\\n\\n')\n",
    "    for i, sf in enumerate(saved_files):\n",
    "        print '%d  %s' % (i+1,sf)\n",
    "        q.write('*  `%s` \\n' % (sf))"
   ]
  },
  {
   "cell_type": "code",
   "execution_count": null,
   "metadata": {},
   "outputs": [],
   "source": []
  }
 ],
 "metadata": {
  "kernelspec": {
   "display_name": "Python 2",
   "language": "python",
   "name": "python2"
  },
  "language_info": {
   "codemirror_mode": {
    "name": "ipython",
    "version": 2
   },
   "file_extension": ".py",
   "mimetype": "text/x-python",
   "name": "python",
   "nbconvert_exporter": "python",
   "pygments_lexer": "ipython2",
   "version": "2.7.16"
  }
 },
 "nbformat": 4,
 "nbformat_minor": 2
}
