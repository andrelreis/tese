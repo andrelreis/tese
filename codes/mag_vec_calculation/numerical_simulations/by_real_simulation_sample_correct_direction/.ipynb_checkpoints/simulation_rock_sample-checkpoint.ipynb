{
 "cells": [
  {
   "cell_type": "markdown",
   "metadata": {},
   "source": [
    "# Simulating a rock sample"
   ]
  },
  {
   "cell_type": "markdown",
   "metadata": {},
   "source": [
    "Notebook to generate a set of spheres"
   ]
  },
  {
   "cell_type": "markdown",
   "metadata": {},
   "source": [
    "#### Import libraries"
   ]
  },
  {
   "cell_type": "code",
   "execution_count": 1,
   "metadata": {},
   "outputs": [
    {
     "name": "stderr",
     "output_type": "stream",
     "text": [
      "/home/andrelreis/anaconda2/lib/python2.7/site-packages/fatiando/vis/mpl.py:76: UserWarning: This module will be removed in v0.6. We recommend the use of matplotlib.pyplot module directly. Some of the fatiando specific functions will remain.\n",
      "  \"specific functions will remain.\")\n"
     ]
    }
   ],
   "source": [
    "from IPython.display import Markdown as md\n",
    "from IPython.display import display as dp\n",
    "import string as st\n",
    "import sys\n",
    "import numpy as np\n",
    "import matplotlib.pyplot as plt\n",
    "import cPickle as pickle\n",
    "import datetime\n",
    "\n",
    "from fatiando.utils import ang2vec, vec2ang\n",
    "from fatiando.mesher import Sphere, Prism, PolygonalPrism\n",
    "from fatiando.gravmag import sphere, prism, polyprism"
   ]
  },
  {
   "cell_type": "code",
   "execution_count": 2,
   "metadata": {},
   "outputs": [],
   "source": [
    "notebook_name = 'simulation_rock_sample.ipynb'"
   ]
  },
  {
   "cell_type": "markdown",
   "metadata": {},
   "source": [
    "#### Importing auxiliary functions"
   ]
  },
  {
   "cell_type": "code",
   "execution_count": 3,
   "metadata": {},
   "outputs": [],
   "source": [
    "dir_modules = '../../'\n",
    "sys.path.append(dir_modules)"
   ]
  },
  {
   "cell_type": "code",
   "execution_count": 4,
   "metadata": {},
   "outputs": [],
   "source": [
    "import my_package as fc"
   ]
  },
  {
   "cell_type": "markdown",
   "metadata": {},
   "source": [
    "#### Loading 2D grid properties"
   ]
  },
  {
   "cell_type": "code",
   "execution_count": 5,
   "metadata": {},
   "outputs": [],
   "source": [
    "with open('data/regular_grid.pickle') as f:\n",
    "        regular = pickle.load(f)"
   ]
  },
  {
   "cell_type": "markdown",
   "metadata": {},
   "source": [
    "### Loading sample bounds"
   ]
  },
  {
   "cell_type": "code",
   "execution_count": 6,
   "metadata": {},
   "outputs": [
    {
     "ename": "IOError",
     "evalue": "[Errno 2] No such file or directory: 'data/set_bounds.pickle'",
     "output_type": "error",
     "traceback": [
      "\u001b[0;31m---------------------------------------------------------------------------\u001b[0m",
      "\u001b[0;31mIOError\u001b[0m                                   Traceback (most recent call last)",
      "\u001b[0;32m<ipython-input-6-2b1302f01290>\u001b[0m in \u001b[0;36m<module>\u001b[0;34m()\u001b[0m\n\u001b[0;32m----> 1\u001b[0;31m \u001b[0;32mwith\u001b[0m \u001b[0mopen\u001b[0m\u001b[0;34m(\u001b[0m\u001b[0;34m'data/set_bounds.pickle'\u001b[0m\u001b[0;34m)\u001b[0m \u001b[0;32mas\u001b[0m \u001b[0mf\u001b[0m\u001b[0;34m:\u001b[0m\u001b[0;34m\u001b[0m\u001b[0m\n\u001b[0m\u001b[1;32m      2\u001b[0m         \u001b[0mbounds\u001b[0m \u001b[0;34m=\u001b[0m \u001b[0mpickle\u001b[0m\u001b[0;34m.\u001b[0m\u001b[0mload\u001b[0m\u001b[0;34m(\u001b[0m\u001b[0mf\u001b[0m\u001b[0;34m)\u001b[0m\u001b[0;34m\u001b[0m\u001b[0m\n",
      "\u001b[0;31mIOError\u001b[0m: [Errno 2] No such file or directory: 'data/set_bounds.pickle'"
     ]
    }
   ],
   "source": [
    "with open('data/set_bounds.pickle') as f:\n",
    "        bounds = pickle.load(f)"
   ]
  },
  {
   "cell_type": "markdown",
   "metadata": {},
   "source": [
    "## Open a dictionary"
   ]
  },
  {
   "cell_type": "code",
   "execution_count": null,
   "metadata": {},
   "outputs": [],
   "source": [
    "model_rock = dict()"
   ]
  },
  {
   "cell_type": "markdown",
   "metadata": {},
   "source": [
    "#### List of saved files"
   ]
  },
  {
   "cell_type": "code",
   "execution_count": null,
   "metadata": {},
   "outputs": [],
   "source": [
    "saved_files = []"
   ]
  },
  {
   "cell_type": "markdown",
   "metadata": {},
   "source": [
    "### Observation area"
   ]
  },
  {
   "cell_type": "code",
   "execution_count": null,
   "metadata": {},
   "outputs": [],
   "source": [
    "print 'Area limits: \\n x_max = %.1f $\\mu m$ \\n x_min = %.1f $\\mu m$ \\n y_max = %.1f $\\mu m$ \\n y_min = %.1f $\\mu m$' % (regular['area'][1], regular['area'][0],regular['area'][3],regular['area'][2])"
   ]
  },
  {
   "cell_type": "markdown",
   "metadata": {},
   "source": [
    "## Plotting sample bounds"
   ]
  },
  {
   "cell_type": "code",
   "execution_count": null,
   "metadata": {},
   "outputs": [],
   "source": [
    "verts1 = []\n",
    "for i in range(len(bounds['vert1_x'])):\n",
    "    verts1.append([bounds['vert1_x'][i],bounds['vert1_y'][i]])"
   ]
  },
  {
   "cell_type": "code",
   "execution_count": null,
   "metadata": {},
   "outputs": [],
   "source": [
    "print verts1"
   ]
  },
  {
   "cell_type": "code",
   "execution_count": null,
   "metadata": {},
   "outputs": [],
   "source": [
    "title_font = 22\n",
    "bottom_font = 20\n",
    "plt.close('all')\n",
    "plt.figure(figsize=(10,10), tight_layout=True)\n",
    "\n",
    "plt.xlabel('y ($\\mu m$)', fontsize = title_font)\n",
    "plt.ylabel('x ($\\mu m$)', fontsize = title_font)\n",
    "plt.title('Sample Bounds',fontsize=title_font)\n",
    "plt.plot(bounds['poly1_y'], bounds['poly1_x'],color='b',linestyle='-',linewidth=2)\n",
    "plt.xlim(np.min(regular['y']),np.max(regular['y']))\n",
    "plt.ylim(np.min(regular['x']),np.max(regular['x']))\n",
    "\n",
    "#file_name = 'figs/sample_bounds'\n",
    "#plt.savefig(file_name+'.png',dpi=200)\n",
    "#saved_files.append(file_name+'.png')\n",
    "\n",
    "\n",
    "plt.show()"
   ]
  },
  {
   "cell_type": "markdown",
   "metadata": {},
   "source": [
    "### Side lengths"
   ]
  },
  {
   "cell_type": "code",
   "execution_count": null,
   "metadata": {},
   "outputs": [],
   "source": [
    "model_rock['lz'] = 2500. "
   ]
  },
  {
   "cell_type": "markdown",
   "metadata": {},
   "source": [
    "### Magnetization direction"
   ]
  },
  {
   "cell_type": "code",
   "execution_count": null,
   "metadata": {},
   "outputs": [],
   "source": [
    "mag = 1.2\n",
    "inc = 90.\n",
    "dec = 0."
   ]
  },
  {
   "cell_type": "code",
   "execution_count": null,
   "metadata": {},
   "outputs": [],
   "source": [
    "model_rock['mag_prism']= ang2vec(mag,inc,dec)"
   ]
  },
  {
   "cell_type": "markdown",
   "metadata": {},
   "source": [
    "### Generating model"
   ]
  },
  {
   "cell_type": "code",
   "execution_count": null,
   "metadata": {},
   "outputs": [],
   "source": [
    "model_rock['prism'] = [PolygonalPrism(verts1, -0.5*model_rock['lz'], 0.5*model_rock['lz'],\n",
    "                                      {'magnetization':model_rock['mag_prism']})]"
   ]
  },
  {
   "cell_type": "markdown",
   "metadata": {},
   "source": [
    "### Random spheres within prism"
   ]
  },
  {
   "cell_type": "markdown",
   "metadata": {},
   "source": [
    "#### Generating the center coordinates and dimension of spheres"
   ]
  },
  {
   "cell_type": "code",
   "execution_count": null,
   "metadata": {},
   "outputs": [],
   "source": [
    "lx_max= -9000.\n",
    "lx_min = -15000.\n",
    "ly_max = 18500.\n",
    "ly_min = 4000."
   ]
  },
  {
   "cell_type": "code",
   "execution_count": null,
   "metadata": {},
   "outputs": [],
   "source": [
    "np.random.seed(seed=40)\n",
    "n = 300\n",
    "R = 50.\n",
    "dec_min = 0.\n",
    "dec_max = 1.\n",
    "inc_min = 89.\n",
    "inc_max = 90.\n",
    "Coordx = np.random.uniform(lx_min + R, lx_max - R,n) \n",
    "Coordy = np.random.uniform(ly_min + R, ly_max - R,n) \n",
    "Coordz = np.random.uniform(-0.5*model_rock['lz']+R,+0.5*model_rock['lz']-R,n)\n",
    "dec_rand = np.random.uniform(dec_min,dec_max,n)\n",
    "inc_rand = np.random.uniform(inc_min,inc_max,n)"
   ]
  },
  {
   "cell_type": "markdown",
   "metadata": {},
   "source": [
    "#### Random magnetization direction"
   ]
  },
  {
   "cell_type": "code",
   "execution_count": null,
   "metadata": {},
   "outputs": [],
   "source": [
    "mag_sph= 500.\n",
    "mag_rand = []\n",
    "for i in range(n):\n",
    "    mag_rand.append(ang2vec(mag_sph,inc_rand[i],dec_rand[i]))"
   ]
  },
  {
   "cell_type": "code",
   "execution_count": null,
   "metadata": {},
   "outputs": [],
   "source": [
    "model_rock['spheres'] = []\n",
    "for i in range(n):\n",
    "    model_rock['spheres'].append(Sphere(Coordx[i], Coordy[i], Coordz[i], R , {'magnetization': mag_rand[i]}))"
   ]
  },
  {
   "cell_type": "markdown",
   "metadata": {},
   "source": [
    "#### Generating .pickle file"
   ]
  },
  {
   "cell_type": "code",
   "execution_count": null,
   "metadata": {},
   "outputs": [],
   "source": [
    "now = datetime.datetime.utcnow().strftime('%d %B %Y %H:%M:%S UTC')\n",
    "model_rock['metadata'] = 'Generated by {name} on {date}'.format(date=now, name=notebook_name)"
   ]
  },
  {
   "cell_type": "code",
   "execution_count": null,
   "metadata": {},
   "outputs": [],
   "source": [
    "file_name = 'data/model_rock.pickle'\n",
    "with open(file_name, 'w') as f:\n",
    "    pickle.dump(model_rock, f)\n",
    "    \n",
    "saved_files.append(file_name)"
   ]
  },
  {
   "cell_type": "markdown",
   "metadata": {},
   "source": [
    "#### Saved files"
   ]
  },
  {
   "cell_type": "code",
   "execution_count": null,
   "metadata": {},
   "outputs": [],
   "source": [
    "with open('reports/report_%s.md' % notebook_name[:st.index(notebook_name, '.')], 'w') as q:\n",
    "    q.write('# Saved files \\n')\n",
    "    now = datetime.datetime.utcnow().strftime('%d %B %Y %H:%M:%S UTC')\n",
    "    header = 'Generated by {name} on {date}'.format(date=now, name=notebook_name)\n",
    "    q.write('\\n\\n'+header+'\\n\\n')\n",
    "    for i, sf in enumerate(saved_files):\n",
    "        print '%d  %s' % (i+1,sf)\n",
    "        q.write('*  `%s` \\n' % (sf))"
   ]
  },
  {
   "cell_type": "code",
   "execution_count": null,
   "metadata": {},
   "outputs": [],
   "source": []
  }
 ],
 "metadata": {
  "kernelspec": {
   "display_name": "Python 2",
   "language": "python",
   "name": "python2"
  },
  "language_info": {
   "codemirror_mode": {
    "name": "ipython",
    "version": 2
   },
   "file_extension": ".py",
   "mimetype": "text/x-python",
   "name": "python",
   "nbconvert_exporter": "python",
   "pygments_lexer": "ipython2",
   "version": "2.7.16"
  }
 },
 "nbformat": 4,
 "nbformat_minor": 2
}
